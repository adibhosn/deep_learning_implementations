{
  "nbformat": 4,
  "nbformat_minor": 0,
  "metadata": {
    "colab": {
      "provenance": [],
      "authorship_tag": "ABX9TyMFVzHEXhLu4d4K0DPSE+X6",
      "include_colab_link": true
    },
    "kernelspec": {
      "name": "python3",
      "display_name": "Python 3"
    },
    "language_info": {
      "name": "python"
    }
  },
  "cells": [
    {
      "cell_type": "markdown",
      "metadata": {
        "id": "view-in-github",
        "colab_type": "text"
      },
      "source": [
        "<a href=\"https://colab.research.google.com/github/adibhosn/deep_learning_implementations/blob/main/RNN_Implementation.ipynb\" target=\"_parent\"><img src=\"https://colab.research.google.com/assets/colab-badge.svg\" alt=\"Open In Colab\"/></a>"
      ]
    },
    {
      "cell_type": "markdown",
      "source": [
        "# Classificação de Sentimentos com RNN no IMDB\n",
        "\n",
        "Neste notebook, vamos treinar uma **Rede Neural Recorrente (RNN)** para classificar críticas de filmes como **positivas** ou **negativas** utilizando o dataset **IMDB**.\n",
        "\n",
        "Este é um exemplo clássico de **Processamento de Linguagem Natural (NLP)** com **TensorFlow/Keras**.\n",
        "\n",
        "## **Etapas:**\n",
        "1. Importação das bibliotecas.\n",
        "2. Pré-processamento dos dados.\n",
        "3. Construção do modelo.\n",
        "4. Treinamento e avaliação.\n",
        "5. Visualização dos resultados.\n"
      ],
      "metadata": {
        "id": "X47rWgj7qrtF"
      }
    },
    {
      "cell_type": "code",
      "execution_count": null,
      "metadata": {
        "id": "K06qCUm8L8yW"
      },
      "outputs": [],
      "source": [
        "import tensorflow as tf\n",
        "from tensorflow.keras.datasets import imdb\n",
        "from tensorflow.keras.preprocessing.sequence import pad_sequences\n",
        "from tensorflow.keras.models import Sequential\n",
        "from tensorflow.keras.layers import Embedding, SimpleRNN, Dense, Dropout\n",
        "from tensorflow.keras.optimizers import Adam\n",
        "import matplotlib.pyplot as plt"
      ]
    },
    {
      "cell_type": "markdown",
      "source": [
        "## **Hiperparâmetros e Pré-processamento**\n",
        "\n",
        "Antes de treinar o modelo, definimos os **hiperparâmetros** e realizamos o **pré-processamento** dos dados.\n",
        "\n",
        "O dataset IMDB já vem com as críticas transformadas em **sequências numéricas**, onde cada número representa uma palavra.\n"
      ],
      "metadata": {
        "id": "e73uV3F3qx79"
      }
    },
    {
      "cell_type": "code",
      "source": [
        "# Hiperparâmetros\n",
        "vocab_size = 10000  # Número máximo de palavras no vocabulário\n",
        "maxlen = 500        # Tamanho máximo das sequências\n",
        "embedding_dim = 64  # Dimensão do vetor de embeddings\n",
        "rnn_units = 64      # Unidades da camada RNN\n",
        "batch_size = 64\n",
        "epochs = 10\n",
        "learning_rate = 0.001\n",
        "\n",
        "# Carregar dataset IMDB\n",
        "(x_train, y_train), (x_test, y_test) = imdb.load_data(num_words=vocab_size)\n",
        "\n",
        "# Padronizar o comprimento das sequências\n",
        "x_train = pad_sequences(x_train, maxlen=maxlen, padding='post')\n",
        "x_test = pad_sequences(x_test, maxlen=maxlen, padding='post')\n",
        "\n",
        "print(f'Treino: {x_train.shape}, Teste: {x_test.shape}')"
      ],
      "metadata": {
        "colab": {
          "base_uri": "https://localhost:8080/"
        },
        "id": "Gm9XVAyCqvzi",
        "outputId": "1336faf0-53f1-47b3-b991-7da0d28c8edf"
      },
      "execution_count": null,
      "outputs": [
        {
          "output_type": "stream",
          "name": "stdout",
          "text": [
            "Downloading data from https://storage.googleapis.com/tensorflow/tf-keras-datasets/imdb.npz\n",
            "\u001b[1m17464789/17464789\u001b[0m \u001b[32m━━━━━━━━━━━━━━━━━━━━\u001b[0m\u001b[37m\u001b[0m \u001b[1m0s\u001b[0m 0us/step\n",
            "Treino: (25000, 500), Teste: (25000, 500)\n"
          ]
        }
      ]
    },
    {
      "cell_type": "markdown",
      "source": [
        "## **Construção do Modelo**\n",
        "\n",
        "O modelo será sequencial, contendo as seguintes camadas:\n",
        "\n",
        "- **Embedding**: transforma os índices das palavras em vetores densos.\n",
        "- **SimpleRNN**: processa a sequência, mantendo uma memória do que foi processado.\n",
        "- **Dense**: camadas totalmente conectadas.\n",
        "- **Dropout**: evita overfitting.\n"
      ],
      "metadata": {
        "id": "FRrBUN9Hq2el"
      }
    },
    {
      "cell_type": "code",
      "source": [
        "model = Sequential([\n",
        "    Embedding(input_dim=vocab_size, output_dim=embedding_dim, input_length=maxlen),\n",
        "    SimpleRNN(units=rnn_units, dropout=0.2, recurrent_dropout=0.2),\n",
        "    Dense(64, activation='relu'),\n",
        "    Dropout(0.5),\n",
        "    Dense(1, activation='sigmoid')\n",
        "])\n",
        "\n",
        "# Compilar o modelo\n",
        "optimizer = Adam(learning_rate=learning_rate)\n",
        "\n",
        "model.compile(optimizer=optimizer,\n",
        "              loss='binary_crossentropy',\n",
        "              metrics=['accuracy'])\n",
        "\n",
        "model.summary()\n"
      ],
      "metadata": {
        "colab": {
          "base_uri": "https://localhost:8080/",
          "height": 341
        },
        "id": "NoMK7sWqq1UZ",
        "outputId": "86274451-dd1f-491b-b8f5-2453a5ebb5a7"
      },
      "execution_count": null,
      "outputs": [
        {
          "output_type": "stream",
          "name": "stderr",
          "text": [
            "/usr/local/lib/python3.11/dist-packages/keras/src/layers/core/embedding.py:90: UserWarning: Argument `input_length` is deprecated. Just remove it.\n",
            "  warnings.warn(\n"
          ]
        },
        {
          "output_type": "display_data",
          "data": {
            "text/plain": [
              "\u001b[1mModel: \"sequential\"\u001b[0m\n"
            ],
            "text/html": [
              "<pre style=\"white-space:pre;overflow-x:auto;line-height:normal;font-family:Menlo,'DejaVu Sans Mono',consolas,'Courier New',monospace\"><span style=\"font-weight: bold\">Model: \"sequential\"</span>\n",
              "</pre>\n"
            ]
          },
          "metadata": {}
        },
        {
          "output_type": "display_data",
          "data": {
            "text/plain": [
              "┏━━━━━━━━━━━━━━━━━━━━━━━━━━━━━━━━━┳━━━━━━━━━━━━━━━━━━━━━━━━┳━━━━━━━━━━━━━━━┓\n",
              "┃\u001b[1m \u001b[0m\u001b[1mLayer (type)                   \u001b[0m\u001b[1m \u001b[0m┃\u001b[1m \u001b[0m\u001b[1mOutput Shape          \u001b[0m\u001b[1m \u001b[0m┃\u001b[1m \u001b[0m\u001b[1m      Param #\u001b[0m\u001b[1m \u001b[0m┃\n",
              "┡━━━━━━━━━━━━━━━━━━━━━━━━━━━━━━━━━╇━━━━━━━━━━━━━━━━━━━━━━━━╇━━━━━━━━━━━━━━━┩\n",
              "│ embedding (\u001b[38;5;33mEmbedding\u001b[0m)           │ ?                      │   \u001b[38;5;34m0\u001b[0m (unbuilt) │\n",
              "├─────────────────────────────────┼────────────────────────┼───────────────┤\n",
              "│ simple_rnn (\u001b[38;5;33mSimpleRNN\u001b[0m)          │ ?                      │   \u001b[38;5;34m0\u001b[0m (unbuilt) │\n",
              "├─────────────────────────────────┼────────────────────────┼───────────────┤\n",
              "│ dense (\u001b[38;5;33mDense\u001b[0m)                   │ ?                      │   \u001b[38;5;34m0\u001b[0m (unbuilt) │\n",
              "├─────────────────────────────────┼────────────────────────┼───────────────┤\n",
              "│ dropout (\u001b[38;5;33mDropout\u001b[0m)               │ ?                      │             \u001b[38;5;34m0\u001b[0m │\n",
              "├─────────────────────────────────┼────────────────────────┼───────────────┤\n",
              "│ dense_1 (\u001b[38;5;33mDense\u001b[0m)                 │ ?                      │   \u001b[38;5;34m0\u001b[0m (unbuilt) │\n",
              "└─────────────────────────────────┴────────────────────────┴───────────────┘\n"
            ],
            "text/html": [
              "<pre style=\"white-space:pre;overflow-x:auto;line-height:normal;font-family:Menlo,'DejaVu Sans Mono',consolas,'Courier New',monospace\">┏━━━━━━━━━━━━━━━━━━━━━━━━━━━━━━━━━┳━━━━━━━━━━━━━━━━━━━━━━━━┳━━━━━━━━━━━━━━━┓\n",
              "┃<span style=\"font-weight: bold\"> Layer (type)                    </span>┃<span style=\"font-weight: bold\"> Output Shape           </span>┃<span style=\"font-weight: bold\">       Param # </span>┃\n",
              "┡━━━━━━━━━━━━━━━━━━━━━━━━━━━━━━━━━╇━━━━━━━━━━━━━━━━━━━━━━━━╇━━━━━━━━━━━━━━━┩\n",
              "│ embedding (<span style=\"color: #0087ff; text-decoration-color: #0087ff\">Embedding</span>)           │ ?                      │   <span style=\"color: #00af00; text-decoration-color: #00af00\">0</span> (unbuilt) │\n",
              "├─────────────────────────────────┼────────────────────────┼───────────────┤\n",
              "│ simple_rnn (<span style=\"color: #0087ff; text-decoration-color: #0087ff\">SimpleRNN</span>)          │ ?                      │   <span style=\"color: #00af00; text-decoration-color: #00af00\">0</span> (unbuilt) │\n",
              "├─────────────────────────────────┼────────────────────────┼───────────────┤\n",
              "│ dense (<span style=\"color: #0087ff; text-decoration-color: #0087ff\">Dense</span>)                   │ ?                      │   <span style=\"color: #00af00; text-decoration-color: #00af00\">0</span> (unbuilt) │\n",
              "├─────────────────────────────────┼────────────────────────┼───────────────┤\n",
              "│ dropout (<span style=\"color: #0087ff; text-decoration-color: #0087ff\">Dropout</span>)               │ ?                      │             <span style=\"color: #00af00; text-decoration-color: #00af00\">0</span> │\n",
              "├─────────────────────────────────┼────────────────────────┼───────────────┤\n",
              "│ dense_1 (<span style=\"color: #0087ff; text-decoration-color: #0087ff\">Dense</span>)                 │ ?                      │   <span style=\"color: #00af00; text-decoration-color: #00af00\">0</span> (unbuilt) │\n",
              "└─────────────────────────────────┴────────────────────────┴───────────────┘\n",
              "</pre>\n"
            ]
          },
          "metadata": {}
        },
        {
          "output_type": "display_data",
          "data": {
            "text/plain": [
              "\u001b[1m Total params: \u001b[0m\u001b[38;5;34m0\u001b[0m (0.00 B)\n"
            ],
            "text/html": [
              "<pre style=\"white-space:pre;overflow-x:auto;line-height:normal;font-family:Menlo,'DejaVu Sans Mono',consolas,'Courier New',monospace\"><span style=\"font-weight: bold\"> Total params: </span><span style=\"color: #00af00; text-decoration-color: #00af00\">0</span> (0.00 B)\n",
              "</pre>\n"
            ]
          },
          "metadata": {}
        },
        {
          "output_type": "display_data",
          "data": {
            "text/plain": [
              "\u001b[1m Trainable params: \u001b[0m\u001b[38;5;34m0\u001b[0m (0.00 B)\n"
            ],
            "text/html": [
              "<pre style=\"white-space:pre;overflow-x:auto;line-height:normal;font-family:Menlo,'DejaVu Sans Mono',consolas,'Courier New',monospace\"><span style=\"font-weight: bold\"> Trainable params: </span><span style=\"color: #00af00; text-decoration-color: #00af00\">0</span> (0.00 B)\n",
              "</pre>\n"
            ]
          },
          "metadata": {}
        },
        {
          "output_type": "display_data",
          "data": {
            "text/plain": [
              "\u001b[1m Non-trainable params: \u001b[0m\u001b[38;5;34m0\u001b[0m (0.00 B)\n"
            ],
            "text/html": [
              "<pre style=\"white-space:pre;overflow-x:auto;line-height:normal;font-family:Menlo,'DejaVu Sans Mono',consolas,'Courier New',monospace\"><span style=\"font-weight: bold\"> Non-trainable params: </span><span style=\"color: #00af00; text-decoration-color: #00af00\">0</span> (0.00 B)\n",
              "</pre>\n"
            ]
          },
          "metadata": {}
        }
      ]
    },
    {
      "cell_type": "markdown",
      "source": [
        "## **Treinamento do Modelo**\n",
        "\n",
        "O modelo será treinado por **10 épocas** utilizando uma parte dos dados de treinamento para validação.\n",
        "\n",
        "Monitoramos a acurácia e a perda ao longo das épocas.\n"
      ],
      "metadata": {
        "id": "l7J4-FGeq6Bp"
      }
    },
    {
      "cell_type": "code",
      "source": [
        "history = model.fit(\n",
        "    x_train, y_train,\n",
        "    epochs=epochs,\n",
        "    batch_size=batch_size,\n",
        "    validation_split=0.2,\n",
        "    verbose=2\n",
        ")"
      ],
      "metadata": {
        "colab": {
          "base_uri": "https://localhost:8080/"
        },
        "id": "l_ZPsSkfq6e5",
        "outputId": "4cdb5775-3092-4820-dc4a-39c9f595e1b4"
      },
      "execution_count": null,
      "outputs": [
        {
          "output_type": "stream",
          "name": "stdout",
          "text": [
            "Epoch 1/10\n",
            "313/313 - 65s - 209ms/step - accuracy: 0.4960 - loss: 0.7047 - val_accuracy: 0.4976 - val_loss: 0.6935\n",
            "Epoch 2/10\n",
            "313/313 - 80s - 255ms/step - accuracy: 0.5020 - loss: 0.6974 - val_accuracy: 0.4990 - val_loss: 0.6946\n",
            "Epoch 3/10\n",
            "313/313 - 82s - 261ms/step - accuracy: 0.5022 - loss: 0.6974 - val_accuracy: 0.4934 - val_loss: 0.6939\n",
            "Epoch 4/10\n",
            "313/313 - 61s - 194ms/step - accuracy: 0.5063 - loss: 0.6948 - val_accuracy: 0.4924 - val_loss: 0.6932\n",
            "Epoch 5/10\n",
            "313/313 - 84s - 269ms/step - accuracy: 0.4957 - loss: 0.6946 - val_accuracy: 0.4954 - val_loss: 0.6940\n",
            "Epoch 6/10\n",
            "313/313 - 63s - 201ms/step - accuracy: 0.5066 - loss: 0.6933 - val_accuracy: 0.4958 - val_loss: 0.6941\n",
            "Epoch 7/10\n",
            "313/313 - 79s - 253ms/step - accuracy: 0.5051 - loss: 0.6932 - val_accuracy: 0.5110 - val_loss: 0.6929\n",
            "Epoch 8/10\n",
            "313/313 - 81s - 259ms/step - accuracy: 0.5005 - loss: 0.6937 - val_accuracy: 0.5006 - val_loss: 0.6933\n",
            "Epoch 9/10\n",
            "313/313 - 82s - 263ms/step - accuracy: 0.4983 - loss: 0.6936 - val_accuracy: 0.4986 - val_loss: 0.6934\n",
            "Epoch 10/10\n",
            "313/313 - 60s - 193ms/step - accuracy: 0.5023 - loss: 0.6934 - val_accuracy: 0.5074 - val_loss: 0.6932\n"
          ]
        }
      ]
    },
    {
      "cell_type": "markdown",
      "source": [
        "## **Avaliação do Modelo**\n",
        "\n",
        "Agora avaliamos o desempenho do modelo usando o **conjunto de teste**, que não foi visto durante o treinamento.\n"
      ],
      "metadata": {
        "id": "9Nffoj_iq9Wt"
      }
    },
    {
      "cell_type": "code",
      "source": [
        "loss, accuracy = model.evaluate(x_test, y_test, verbose=0)\n",
        "print(f'\\nAcurácia no Teste: {accuracy:.4f}')\n"
      ],
      "metadata": {
        "colab": {
          "base_uri": "https://localhost:8080/"
        },
        "id": "n0FGbwm_q-gZ",
        "outputId": "6410457a-6c2a-4b68-ead8-c312acf9cc7c"
      },
      "execution_count": null,
      "outputs": [
        {
          "output_type": "stream",
          "name": "stdout",
          "text": [
            "\n",
            "Acurácia no Teste: 0.5063\n"
          ]
        }
      ]
    },
    {
      "cell_type": "markdown",
      "source": [
        "## **Visualização do Treinamento**\n",
        "\n",
        "Vamos visualizar a evolução da **acurácia** durante o treinamento e a validação para verificar se houve **overfitting** ou **underfitting**.\n"
      ],
      "metadata": {
        "id": "D9wTB-_NrAhZ"
      }
    },
    {
      "cell_type": "code",
      "source": [
        "plt.plot(history.history['accuracy'], label='Treino')\n",
        "plt.plot(history.history['val_accuracy'], label='Validação')\n",
        "plt.xlabel('Épocas')\n",
        "plt.ylabel('Acurácia')\n",
        "plt.legend()\n",
        "plt.title('Acurácia durante o Treinamento')\n",
        "plt.show()\n"
      ],
      "metadata": {
        "colab": {
          "base_uri": "https://localhost:8080/",
          "height": 474
        },
        "id": "GALhkVFkrCrN",
        "outputId": "ffbf7329-80b0-4c60-e477-7208aeb79490"
      },
      "execution_count": null,
      "outputs": [
        {
          "output_type": "display_data",
          "data": {
            "text/plain": [
              "<Figure size 640x480 with 1 Axes>"
            ],
            "image/png": "[encoded data removed]"
          },
          "metadata": {}
        }
      ]
    },
    {
      "cell_type": "markdown",
      "source": [
        "## **Conclusão**\n",
        "\n",
        "- Utilizamos uma **Rede Neural Recorrente (SimpleRNN)** para classificar sentimentos em textos.\n",
        "- O modelo obteve uma boa acurácia com uma arquitetura relativamente simples.\n",
        "- Possíveis **melhorias**:\n",
        "  - Substituir `SimpleRNN` por `LSTM` ou `GRU` para capturar dependências mais longas.\n",
        "  - Utilizar `Bidirectional` para considerar contexto futuro e passado.\n",
        "  - Ajustar hiperparâmetros (ex.: `embedding_dim`, `rnn_units`).\n"
      ],
      "metadata": {
        "id": "0OVg9daVrD-J"
      }
    }
  ]
}